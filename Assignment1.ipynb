{
 "cells": [
  {
   "cell_type": "code",
   "execution_count": null,
   "id": "6b0fdebc-e992-405a-a606-b6a7f3a9f08c",
   "metadata": {
    "tags": []
   },
   "outputs": [],
   "source": [
    "1. Characteristics of tuple:-\n",
    "*Tuples are ordered, indexed collections of data.\n",
    "*Similar to string indices, the first value in the tuple will have the index[0], the second value[1], and so on.\n",
    "*Tuple can store duplicate values.\n",
    "  Is tuple immutable:-\n",
    "*Yes, tuple is immutable.Tuple is sequence of values much like list.The values stored in tuple can be any type, \n",
    "and they are indexed by integers.Tuple are also comparable and hashable so we can sort list of them and use tuples \n",
    "as key values in python dictionaries."
   ]
  },
  {
   "cell_type": "code",
   "execution_count": null,
   "id": "72e52544-bdd6-43e1-8a6c-7c69907e3b65",
   "metadata": {
    "tags": []
   },
   "outputs": [],
   "source": [
    "2. Tuple Methods:-\n",
    "*count() : Returns the number of times specified value occurs in tuple.\n",
    "syntax- count(element)\n",
    "example-\n",
    "         Tuple1= (0,1,2,3,2,3,1,3,2)\n",
    "         Tuple2= ('python','geek','python','for','java','python')\n",
    "         res = Tuple1.count(3)\n",
    "         print ('Count of 3 in Tuple1 is:' , res)\n",
    "         res = Tuple2.count('python')\n",
    "         print ('Count of python in Tuple2 is:' , res)\n",
    "        \n",
    "*index() : Searches tuple for specified value and returs position of where it was found.   \n",
    "syntax- tuple.index(element, start, end)\n",
    "example-\n",
    "         Tuple= (0,1,2,3,2,3,1,3,2)\n",
    "         res= Tuple.index(3)\n",
    "        print ('First occurence of 3 is:' , res)\n",
    "        res= Tuple.index(3,4)\n",
    "        print ('First occurence of 3 after 4th index is:' , res)"
   ]
  },
  {
   "cell_type": "code",
   "execution_count": null,
   "id": "9ffb6ffa-8b8e-4503-bf3b-146c4bb7509f",
   "metadata": {},
   "outputs": [],
   "source": [
    "3. Datatypes:-\n",
    "*Sets do not allow duplicate items, they are unordered, and items stored in them cannot be modified. We\n",
    "also saw how to access, add, and remove items in sets using different methods.\n",
    "* Code-\n",
    "list[1,1,1,2,1,3,1,4,2,1,2,2,2,3,2,4,3,1,3,2,3,3,3,4,4,1,4,2,4,3,4,4]\n",
    "print (\"Original List: \" , list)\n",
    "res= [*set()]\n",
    "print (\"List after removing duplicate elements: \" , res)"
   ]
  },
  {
   "cell_type": "code",
   "execution_count": null,
   "id": "af05ff75-0e0b-4356-8473-f6e796f73df6",
   "metadata": {},
   "outputs": [],
   "source": [
    "4. Methods:-\n",
    "*Both set.update() and set.union() perform union operation.However, set.update() adds all missing elements to set on which it is called \n",
    "whereas set.union() creates new set.Consequently, the return value of set.update() is None(with side effects)and the \n",
    "return value of set.union() is set(without side effects).\n",
    "example-\n",
    "set.update()=\n",
    "             s= {1,2,3}\n",
    "             s.update({4,5})\n",
    "             s{1,2,3,4,4}\n",
    "set.union()=\n",
    "            s={1,2,3}\n",
    "            s.union({4,5})\n",
    "            {1,2,3,4,5}"
   ]
  },
  {
   "cell_type": "code",
   "execution_count": null,
   "id": "3acd7023-8c47-4822-96f2-7ad171ea1d8e",
   "metadata": {},
   "outputs": [],
   "source": [
    "5. Dictionary:-\n",
    "*Dictionaries are used to store data values in key:value pairs. It is collection which is ordered, changeable\n",
    "and do not allow duplicates. As of python version3.7 ,dictionaries are ordered and by python version3.6 \n",
    "& earlier, dictionaries are unordered.ford\n",
    "example-s\n",
    "        thisdict= {\"brand\": \"ford\", \"model\": \"mustang\", \"year\": \"1964\"}\n",
    "        print(thisdict)"
   ]
  },
  {
   "cell_type": "code",
   "execution_count": null,
   "id": "e893b2f3-a43e-46cc-a48a-5975aaa86c50",
   "metadata": {},
   "outputs": [],
   "source": [
    "6. Nested dictionary\n",
    "*It means putting dictionay inside another dictionay. Nesting is of great use as the kind of information\n",
    "we can model in programs is expanded greatly.In python, nested dict can be created by placing comma-separated \n",
    "dictionaries enclosed within braces.\n",
    "example-\n",
    "        people= {1: {'name': 'marie', 'age': '22', 'sex': 'female'}\n",
    "         2: {'name': 'john', 'age': '27', 'sex': 'male'}}\n",
    "        print(people)"
   ]
  },
  {
   "cell_type": "code",
   "execution_count": null,
   "id": "8a1bc44b-02fc-41d5-aef6-de38094a997e",
   "metadata": {},
   "outputs": [],
   "source": [
    "7. Create dict\n",
    "dict1= {'language': 'python', 'course': 'data science masters'}\n",
    "dict2= {'language': 'machine learning', 'course': 'data science masters'}\n",
    "dict3= {'language': 'deep learning', 'course': 'data science masters'}\n",
    "a= {dict1.setdefault('value'.3000)\n",
    "dict2.setdefault('value'.4000)\n",
    "dict3.setdefault('value'.5000)}\n",
    "print(a)"
   ]
  },
  {
   "cell_type": "code",
   "execution_count": null,
   "id": "ec11300a-4ab0-48a8-9ad9-83901833c6db",
   "metadata": {},
   "outputs": [],
   "source": [
    "8. View objects:-\n",
    "*The main view objects of dictionary in python are keys, values and items."
   ]
  }
 ],
 "metadata": {
  "kernelspec": {
   "display_name": "Python 3 (ipykernel)",
   "language": "python",
   "name": "python3"
  },
  "language_info": {
   "codemirror_mode": {
    "name": "ipython",
    "version": 3
   },
   "file_extension": ".py",
   "mimetype": "text/x-python",
   "name": "python",
   "nbconvert_exporter": "python",
   "pygments_lexer": "ipython3",
   "version": "3.10.8"
  }
 },
 "nbformat": 4,
 "nbformat_minor": 5
}
